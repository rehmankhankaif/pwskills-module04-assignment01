{
 "cells": [
  {
   "cell_type": "markdown",
   "metadata": {},
   "source": [
    "-------------------------------------------------------ASSIGNMENT 01 | MODULE 04----------------------------------------------------"
   ]
  },
  {
   "cell_type": "markdown",
   "metadata": {},
   "source": [
    "Ques01-> Discuss string slicing and provide examples.<br>\n",
    "\n",
    "Ans-> String slicing is a process to extract a part of a string based on the given indices. <br>\n",
    "Here's how it works in Python:-<br>\n",
    "\n",
    "string[start:end:step]<br>\n",
    "1. start: The starting index of the slice (inclusive).<br>\n",
    "2. end: The ending index of the slice (exclusive).<br>\n",
    "3. step: The step size or increment (optional).<br>\n",
    "Also if step is negative number example -1 then counting of characters in particular string will go from right to left.<br>"
   ]
  },
  {
   "cell_type": "code",
   "execution_count": 3,
   "metadata": {},
   "outputs": [
    {
     "name": "stdout",
     "output_type": "stream",
     "text": [
      "Hello\n",
      "PW Skills!\n"
     ]
    }
   ],
   "source": [
    "#Example01\n",
    "\n",
    "text = \"Hello, PW Skills!\"\n",
    "slice1 = text[0:5]  # Output: 'Hello'\n",
    "slice2 = text[7:]  # Output: 'PW Skills!'\n",
    "print(slice1)\n",
    "print(slice2)\n"
   ]
  },
  {
   "cell_type": "code",
   "execution_count": null,
   "metadata": {},
   "outputs": [
    {
     "name": "stdout",
     "output_type": "stream",
     "text": [
      "Python\n",
      "gnimmargorP nohtyP\n"
     ]
    }
   ],
   "source": [
    "#Example02\n",
    "\n",
    "text = \"Python Programming\"\n",
    "slice1 = text[:6]  \n",
    "slice2 = text[::-1] # Output: print entire text right to left because of negative step value\n",
    "print(slice1)\n",
    "print(slice2)"
   ]
  },
  {
   "cell_type": "markdown",
   "metadata": {},
   "source": [
    "One of Python's most useful tools for effectively manipulating and accessing portions of strings is string slicing. It's useful for a number of tasks, including accessing characters at particular intervals, reversing strings, and extracting substrings."
   ]
  },
  {
   "cell_type": "markdown",
   "metadata": {},
   "source": [
    "-------------------------------------------------------------------------------------------------------------------------------------------------------"
   ]
  },
  {
   "cell_type": "markdown",
   "metadata": {},
   "source": [
    "-------------------------------------------------------------------------------------------------------------------------------------------------------"
   ]
  },
  {
   "cell_type": "markdown",
   "metadata": {},
   "source": [
    "Ques02-> Explain the key features of lists in Python.<br>\n",
    "\n",
    "Ans-> Key features are as follows:-<br>\n",
    "1. Ordered Collection: List maintains the order of elements present in it, which means that all the elements are stored in the sequence they are added.<br>\n",
    "my_list = [1, 2, 3]<br>\n",
    "\n",
    "2. Mutable: Lists are mutable, which means we can change its elements after creation as per our needs.<br>\n",
    "my_list[0] = 10<br>\n",
    "\n",
    "3. Allows Duplicates: Lists can store duplicate elements unlike sets and dictionaries.<br>\n",
    "my_list = [1, 1, 2, 2]<br>\n",
    "\n",
    "4. Different Data Types: Lists can hold items of different data types.<br>\n",
    "my_list = [1, \"Hello PW Skills\", 3.14]<br>\n",
    "\n",
    "5. Indexing and Slicing: We can access elements using indices and slices.<br>\n",
    "my_list = [1, \"Hello PW Skills\", 3.14]<br>\n",
    "element = my_list[0] -----> Output 1<br>\n",
    "slice = my_list[1:2] -----> Output \"Hello PW Skills\"<br>\n",
    "\n",
    "6. Dynamic Size: Lists can be of any size as it can grow or shrink in size as per our need.<br>\n",
    "my_list.append(4)<br>\n",
    "my_list.remove(1)<br>\n",
    "\n",
    "7. Comprehensive Built-in Functions: Python provides various built-in functions for lists, such as len(), max(), min(), etc.<br>\n",
    "length = len(my_list)<br>\n",
    "maximum = max(my_list)<br>"
   ]
  },
  {
   "cell_type": "markdown",
   "metadata": {},
   "source": [
    "-------------------------------------------------------------------------------------------------------------------------------------------------------"
   ]
  },
  {
   "cell_type": "markdown",
   "metadata": {},
   "source": [
    "-------------------------------------------------------------------------------------------------------------------------------------------------------"
   ]
  },
  {
   "cell_type": "markdown",
   "metadata": {},
   "source": [
    "Ques03->  Describe how to access, modify, and delete elements in a list with examples\n",
    "\n",
    "Ans-> Process to access, modify, and delete elements in a list with examples are as follows:-"
   ]
  },
  {
   "cell_type": "code",
   "execution_count": 5,
   "metadata": {},
   "outputs": [
    {
     "name": "stdout",
     "output_type": "stream",
     "text": [
      "10 20 50\n"
     ]
    }
   ],
   "source": [
    "# 1. Accessing Elements: We can access elements in a list using their index and in python indices start from 0.\n",
    "\n",
    "my_list = [10, 20, 30, 40, 50]\n",
    "first_element = my_list[0]  # Output: 10\n",
    "second_element = my_list[1]  # Output: 20\n",
    "last_element = my_list[-1]  # Output: 50\n",
    "print(first_element, second_element, last_element)"
   ]
  },
  {
   "cell_type": "code",
   "execution_count": 6,
   "metadata": {},
   "outputs": [
    {
     "name": "stdout",
     "output_type": "stream",
     "text": [
      "[500, 20, 800, 40, 50]\n"
     ]
    }
   ],
   "source": [
    "# 2. Modifying Elements: We can modify an element in a list by directly assigning a new value to an index.\n",
    " \n",
    "my_list = [10, 20, 30, 40, 50]\n",
    "my_list[0] = 500  # my_list is now [500, 20, 30, 40, 50]\n",
    "my_list[2] = 800  # my_list is now [100, 20, 800, 40, 50]\n",
    "print(my_list)"
   ]
  },
  {
   "cell_type": "code",
   "execution_count": null,
   "metadata": {},
   "outputs": [
    {
     "name": "stdout",
     "output_type": "stream",
     "text": [
      "[10, 30, 40, 50]\n",
      "30 [10, 20, 40, 50]\n",
      "[10, 20, 40, 50]\n"
     ]
    }
   ],
   "source": [
    "# 3. Deleting Elements: We can delete elements from a list using the del statement, pop() method, or remove() method.\n",
    "# 3.1 Using Del\n",
    "\n",
    "my_list01 = [10, 20, 30, 40, 50]\n",
    "del my_list01[1]  # my_list is now [10, 30, 40, 50]\n",
    "print(my_list01)\n",
    "\n",
    "# 3.2 Using Pop() -> pop() removes an element by index and returns it. If no index is specified, it removes the last element.\n",
    "\n",
    "my_list02 = [10, 20, 30, 40, 50]\n",
    "popped_element = my_list02.pop(2)  # Output: 30, my_list is now [10, 20, 40, 50]\n",
    "print(popped_element, my_list02)\n",
    "\n",
    "# 3.3 Using remove() -> It removes the first occurrence of a specific value.\n",
    "\n",
    "my_list03 = [10, 20, 30, 40, 50]\n",
    "my_list03.remove(30)  # my_list is now [10, 20, 40, 50]\n",
    "print(my_list03)"
   ]
  },
  {
   "cell_type": "markdown",
   "metadata": {},
   "source": [
    "-------------------------------------------------------------------------------------------------------------------------------------------------------"
   ]
  },
  {
   "cell_type": "markdown",
   "metadata": {},
   "source": [
    "-------------------------------------------------------------------------------------------------------------------------------------------------------"
   ]
  },
  {
   "cell_type": "markdown",
   "metadata": {},
   "source": [
    "Ques04-> Compare and contrast tuples and lists with examples.<br>\n",
    "\n",
    "Ans-> Comparison is as follows:-<br>\n",
    "->Tuples<br>\n",
    "1.Definition: Tuples are ordered collections of items that are immutable.<br>\n",
    "2.Syntax: Defined using parentheses ().<br>\n",
    "3.Mutability: Immutable, which means that its elements cannot be changed after its creation for exmaple employee id which a particular company don't want to change.<br>\n",
    "4.Performance: Generally faster than lists due to their immutability.<br>\n",
    "5.Usage: Ideal for fixed collections of items.<br>\n",
    "6.Methods: Limited methods like count() and index().<br>\n",
    "\n",
    "->Lists<br>\n",
    "1.Definition: Lists are ordered collections of items that are mutable.<br>\n",
    "2.Syntax: Defined using square brackets [].<br>\n",
    "3.Mutability: Mutable, which means that its elements can be changed after its creation for example employee salary record which changes with time.<br>\n",
    "4.Performance: Slightly slower than tuples due to their mutability.<br>\n",
    "5.Usage: Ideal for collections of items that may need to change.<br>\n",
    "6.Methods: Extensive methods like append(), remove(), pop(), etc.<br>"
   ]
  },
  {
   "cell_type": "code",
   "execution_count": 8,
   "metadata": {},
   "outputs": [
    {
     "name": "stdout",
     "output_type": "stream",
     "text": [
      "(1, 2, 3)\n"
     ]
    }
   ],
   "source": [
    "#Examples of tuples:-\n",
    "\n",
    "# Creating a tuple\n",
    "my_tuple = (1, 2, 3)\n",
    "print(my_tuple)  # Output: (1, 2, 3)\n",
    "\n",
    "# Accessing elements\n",
    "first_element = my_tuple[0]  # Output: 1\n",
    "\n",
    "# Using count() method\n",
    "count_of_ones = my_tuple.count(1)  # Output: 1\n",
    "\n",
    "# Using index() method\n",
    "index_of_three = my_tuple.index(3)  # Output: 2\n",
    "\n",
    "# Tuples as dictionary keys\n",
    "my_dict = {(1, 2): \"value\"}  # Valid usage\n"
   ]
  },
  {
   "cell_type": "code",
   "execution_count": 9,
   "metadata": {},
   "outputs": [
    {
     "name": "stdout",
     "output_type": "stream",
     "text": [
      "[1, 2, 3]\n"
     ]
    }
   ],
   "source": [
    "#Examples of lists:-\n",
    "\n",
    "# Creating a list\n",
    "my_list = [1, 2, 3]\n",
    "print(my_list)  # Output: [1, 2, 3]\n",
    "\n",
    "# Accessing elements\n",
    "first_element = my_list[0]  # Output: 1\n",
    "\n",
    "# Modifying elements\n",
    "my_list[0] = 10  # my_list is now [10, 2, 3]\n",
    "\n",
    "# Using append() method\n",
    "my_list.append(4)  # my_list is now [10, 2, 3, 4]\n",
    "\n",
    "# Using remove() method\n",
    "my_list.remove(2)  # my_list is now [10, 3, 4]\n",
    "\n",
    "# Using pop() method\n",
    "popped_element = my_list.pop(1)  # Output: 3, my_list is now [10, 4]\n"
   ]
  },
  {
   "cell_type": "markdown",
   "metadata": {},
   "source": [
    "-------------------------------------------------------------------------------------------------------------------------------------------------------"
   ]
  },
  {
   "cell_type": "markdown",
   "metadata": {},
   "source": [
    "-------------------------------------------------------------------------------------------------------------------------------------------------------"
   ]
  },
  {
   "cell_type": "markdown",
   "metadata": {},
   "source": [
    "Ques05->  Describe the key features of sets and provide examples of their use.<br>\n",
    "\n",
    "Ans-> Keys features of sets are as follows:-<br>\n",
    "\n",
    "1.Unordered Collection: Sets do not maintain any order of elements.<br>\n",
    "2.Unique Elements: Sets automatically remove duplicate elements.<br>\n",
    "3.Mutable: Elements can be added or removed after the set is created.<br>\n",
    "4.Immutable Elements: The items within the set must be immutable (e.g., numbers, strings, tuples).<br>\n",
    "5.Set Operations: Supports mathematical operations like union, intersection, difference, and symmetric difference.<br>\n",
    "6.No Indexing: Since sets are unordered, they do not support indexing, slicing, or other sequence-like behavior.<br>"
   ]
  },
  {
   "cell_type": "markdown",
   "metadata": {},
   "source": [
    "Examples are as follows:-<br>\n",
    "\n",
    "1. Unordered Collection: Sets do not maintain any order of elements.<br>\n",
    "\n",
    "my_set = {1, 2, 3, 4}<br>\n",
    "print(my_set)  # Output: {1, 2, 3, 4}<br>\n",
    "\n",
    "2. Unique Elements: Sets automatically remove duplicate elements.<br>\n",
    "\n",
    "my_set = {1, 1, 2, 2}<br>\n",
    "print(my_set)  # Output: {1, 2}<br>\n",
    "\n",
    "3. Adding Elements: Elements can be added using the add() method.<br>\n",
    "\n",
    "my_set = {1, 2, 3}<br>\n",
    "my_set.add(4)<br>\n",
    "print(my_set)  # Output: {1, 2, 3, 4}<br>\n",
    "\n",
    "4. Removing Elements: Elements can be removed using the remove() method.<br>\n",
    "\n",
    "my_set = {1, 2, 3}<br>\n",
    "my_set.remove(2)<br>\n",
    "print(my_set)  # Output: {1, 3}<br>\n",
    "\n",
    "5. Set Operations\n",
    "5.1 Union: Combines elements from both sets.<br>\n",
    "\n",
    "set1 = {1, 2, 3}<br>\n",
    "set2 = {3, 4, 5}<br>\n",
    "union_set = set1 | set2<br>\n",
    "print(union_set)  # Output: {1, 2, 3, 4, 5}<br>\n",
    "\n",
    "5.2 ntersection: Elements common to both sets.<br>\n",
    "\n",
    "set1 = {1, 2, 3}<br>\n",
    "set2 = {2, 3, 4}<br>\n",
    "intersection_set = set1 & set2<br>\n",
    "print(intersection_set)  # Output: {2, 3}<br>\n",
    "\n",
    "6. Difference: Elements in the first set but not in the second.<br>\n",
    "\n",
    "set1 = {1, 2, 3}<br>\n",
    "set2 = {2, 3, 4}<br>\n",
    "difference_set = set1 - set2<br>\n",
    "print(difference_set)  # Output: {1}<br>\n",
    "\n",
    "7. Symmetric Difference: Elements in either set, but not in both.<br>\n",
    "\n",
    "set1 = {1, 2, 3}<br><br>\n",
    "set2 = {2, 3, 4}\n",
    "symmetric_difference_set = set1 ^ set2<br>\n",
    "print(symmetric_difference_set)  # Output: {1, 4}<br>\n",
    "\n",
    "8. Checking Membership: You can check if an element is in a set.<br>\n",
    "\n",
    "my_set = {1, 2, 3}<br>\n",
    "print(2 in my_set)  # Output: True<br>\n",
    "print(5 in my_set)  <br>"
   ]
  },
  {
   "cell_type": "markdown",
   "metadata": {},
   "source": [
    "-------------------------------------------------------------------------------------------------------------------------------------------------------"
   ]
  },
  {
   "cell_type": "markdown",
   "metadata": {},
   "source": [
    "-------------------------------------------------------------------------------------------------------------------------------------------------------"
   ]
  },
  {
   "cell_type": "markdown",
   "metadata": {},
   "source": [
    "Ques06-> Discuss the use cases of tuples and sets in Python programming.<br>\n",
    "<br>\n",
    "Ans-> <br>\n",
    "Use Cases of Tuples in Python:-<br>\n",
    "<br>\n",
    "1.Immutable Data: Tuples are useful for storing immutable data, such as coordinates, dates, or any data that should not be chnaged at any cost throughout the program.<br>\n",
    "coordinates = (34.0522, -118.2437)  # Latitude and longitude<br>\n",
    "<br>\n",
    "2.Dictionary Keys: Since tuples are immutable, they can be used as keys in dictionaries.<br>\n",
    "my_dict = {('name', 'age'): ['Alice', 30]}<br>\n",
    "<br>\n",
    "3.Returning Multiple Values: Functions can return multiple values using tuples.<br>\n",
    "def get_user():<br>\n",
    "    return \"Alice\", 30<br>\n",
    "<br>\n",
    "name, age = get_user()<br>\n",
    "<br>\n",
    "4.Structuring Data: Tuples are often used to group related data together.<br>\n",
    "person = (\"Alice\", 30, \"Engineer\")<br>\n",
    "<br>\n",
    "5.Read-only Data: When you want to ensure data cannot be changed, using a tuple is beneficial.<br>\n",
    "colors = (\"red\", \"green\", \"blue\")<br>\n",
    "<br>\n",
    "<br>\n",
    "<br>\n",
    "Use Cases of Sets in Python:-<br>\n",
    "<br>\n",
    "1.Unique Collection: Sets are ideal for storing a collection of unique items. They automatically remove duplicates.<br>\n",
    "unique_numbers = {1, 2, 3, 3, 4}  # Output: {1, 2, 3, 4}<br>\n",
    "<br>\n",
    "2.Membership Testing: Sets are highly efficient for checking if an element is present.<br>\n",
    "numbers = {1, 2, 3, 4, 5}<br>\n",
    "if 3 in numbers:<br>\n",
    "    print(\"3 is in the set\")<br>\n",
    "<br>\n",
    "3.Set Operations: Useful for performing mathematical set operations like union, intersection, and difference.<br>\n",
    "set1 = {1, 2, 3}<br>\n",
    "set2 = {2, 3, 4}<br>\n",
    "union_set = set1 | set2  # {1, 2, 3, 4}<br>\n",
    "intersection_set = set1 & set2  # {2, 3}<br>\n",
    "<br>\n",
    "4.Data Deduplication: Sets can be used to remove duplicate items from a list.<br>\n",
    "numbers = [1, 2, 2, 3, 4, 4, 5]<br>\n",
    "unique_numbers = list(set(numbers))  # [1, 2, 3, 4, 5]<br>\n",
    "<br>\n",
    "5.Mathematical Operations: Sets are particularly useful in applications involving mathematical operations like probability, statistics, and discrete mathematics.<br>\n",
    "even_numbers = {2, 4, 6, 8}<br>\n",
    "prime_numbers = {2, 3, 5, 7}<br>"
   ]
  },
  {
   "cell_type": "markdown",
   "metadata": {},
   "source": [
    "-------------------------------------------------------------------------------------------------------------------------------------------------------"
   ]
  },
  {
   "cell_type": "markdown",
   "metadata": {},
   "source": [
    "-------------------------------------------------------------------------------------------------------------------------------------------------------"
   ]
  },
  {
   "cell_type": "markdown",
   "metadata": {},
   "source": [
    "Ques07->  Describe how to add, modify, and delete items in a dictionary with examples<br>\n",
    "<br>\n",
    "Ans:- Managing Items in a Dictionary<br>\n",
    "<br>\n",
    "1.Adding Items<br>\n",
    "To add a new key-value pair, simply assign a value to a new key in the dictionary.<br>\n",
    "my_dict = {'name': 'Alice', 'age': 30}<br>\n",
    "my_dict['city'] = 'New York'  # Adding a new key-value pair<br>\n",
    "print(my_dict)  # Output: {'name': 'Alice', 'age': 30, 'city': 'New York'}<br>\n",
    "<br>\n",
    "2.Modifying Items<br>\n",
    "To modify an existing item, reassign a value to an existing key.<br>\n",
    "my_dict = {'name': 'Alice', 'age': 30, 'city': 'New York'}<br>\n",
    "my_dict['age'] = 31  # Modifying an existing key-value pair<br>\n",
    "print(my_dict)  # Output: {'name': 'Alice', 'age': 31, 'city': 'New York'}<br>\n",
    "<br>\n",
    "3.Deleting Items<br>\n",
    "You can delete items using the del statement, pop() method, or popitem() method.<br>\n",
    "<br>\n",
    "3.1 Using del statement<br>\n",
    "my_dict = {'name': 'Alice', 'age': 31, 'city': 'New York'}<br>\n",
    "del my_dict['city']  # Deleting a key-value pair<br>\n",
    "print(my_dict)  # Output: {'name': 'Alice', 'age': 31}<br>\n",
    "<br>\n",
    "3.2 Using pop()<br>\n",
    "The pop() method removes a key and returns its value.<br>\n",
    "my_dict = {'name': 'Alice', 'age': 31}<br>\n",
    "age = my_dict.pop('age')  # Removes and returns the value associated with 'age'<br>\n",
    "print(age)  # Output: 31<br>\n",
    "print(my_dict)  # Output: {'name': 'Alice'}<br>\n",
    "<br>\n",
    "3.3 Using popitem()<br>\n",
    "The popitem() method removes and returns the last key-value pair as a tuple.<br>\n",
    "my_dict = {'name': 'Alice', 'age': 31}<br>\n",
    "item = my_dict.popitem()  # Removes and returns the last key-value pair<br>\n",
    "print(item)  # Output: ('age', 31)<br>\n",
    "print(my_dict)  <br>"
   ]
  },
  {
   "cell_type": "markdown",
   "metadata": {},
   "source": [
    "-------------------------------------------------------------------------------------------------------------------------------------------------------"
   ]
  },
  {
   "cell_type": "markdown",
   "metadata": {},
   "source": [
    "-------------------------------------------------------------------------------------------------------------------------------------------------------"
   ]
  },
  {
   "cell_type": "markdown",
   "metadata": {},
   "source": [
    "Ques08->  Discuss the importance of dictionary keys being immutable and provide examples<br>\n",
    "<br>\n",
    "Ans-> Importance of Immutable Dictionary Keys<br>\n",
    "In Python, dictionary keys must be immutable. This is crucial for several reasons:<br>\n",
    "<br>\n",
    "1. Hashable:<br>\n",
    "Dictionary keys need to be hashable, meaning they should have a fixed hash value for their lifetime. Immutability ensures that the hash value does not change, which is essential for quick lookups.<br>\n",
    "<br>\n",
    "2. Consistency:<br>\n",
    "Immutable keys guarantee that the key-value pair can be reliably accessed throughout the program. If keys were mutable, their values could change, leading to inconsistent data and difficult-to-track bugs.<br>\n",
    "<br>\n",
    "3. Data Integrity:<br>\n",
    "Using immutable keys can lead to accidental modifications that could disrupt the logic and structure of the dictionary.<br>\n",
    "<br>\n",
    "Examples<br>\n",
    "Using Tuples as Keys<br>\n",
    "Tuples, being immutable, are often used as dictionary keys.<br>\n",
    "<br>\n",
    "location_dict = { (34.0522, -118.2437): \"Los Angeles\",<br>\n",
    "                  (40.7128, -74.0060): \"New York\",<br>\n",
    "                  (51.5074, -0.1278): \"London\" }<br>\n",
    "print(location_dict)<br>\n",
    "<br>"
   ]
  }
 ],
 "metadata": {
  "kernelspec": {
   "display_name": "Python 3",
   "language": "python",
   "name": "python3"
  },
  "language_info": {
   "codemirror_mode": {
    "name": "ipython",
    "version": 3
   },
   "file_extension": ".py",
   "mimetype": "text/x-python",
   "name": "python",
   "nbconvert_exporter": "python",
   "pygments_lexer": "ipython3",
   "version": "3.9.19"
  }
 },
 "nbformat": 4,
 "nbformat_minor": 2
}
